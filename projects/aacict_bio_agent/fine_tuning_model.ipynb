{
 "cells": [
  {
   "cell_type": "code",
   "execution_count": 2,
   "metadata": {},
   "outputs": [
    {
     "name": "stdout",
     "output_type": "stream",
     "text": [
      "Collecting pdfplumber\n",
      "  Downloading pdfplumber-0.11.5-py3-none-any.whl.metadata (42 kB)\n",
      "     ---------------------------------------- 0.0/42.5 kB ? eta -:--:--\n",
      "     --------- ------------------------------ 10.2/42.5 kB ? eta -:--:--\n",
      "     --------- ------------------------------ 10.2/42.5 kB ? eta -:--:--\n",
      "     ------------------ ------------------- 20.5/42.5 kB 108.9 kB/s eta 0:00:01\n",
      "     --------------------------- ---------- 30.7/42.5 kB 130.4 kB/s eta 0:00:01\n",
      "     -------------------------------------- 42.5/42.5 kB 158.8 kB/s eta 0:00:00\n",
      "Collecting pdfminer.six==20231228 (from pdfplumber)\n",
      "  Downloading pdfminer.six-20231228-py3-none-any.whl.metadata (4.2 kB)\n",
      "Requirement already satisfied: Pillow>=9.1 in c:\\users\\aacic\\anaconda3\\envs\\gpu_env\\lib\\site-packages (from pdfplumber) (10.3.0)\n",
      "Collecting pypdfium2>=4.18.0 (from pdfplumber)\n",
      "  Downloading pypdfium2-4.30.1-py3-none-win_amd64.whl.metadata (48 kB)\n",
      "     ---------------------------------------- 0.0/48.2 kB ? eta -:--:--\n",
      "     ------------------------- -------------- 30.7/48.2 kB 1.3 MB/s eta 0:00:01\n",
      "     -------------------------------------- 48.2/48.2 kB 808.1 kB/s eta 0:00:00\n",
      "Requirement already satisfied: charset-normalizer>=2.0.0 in c:\\users\\aacic\\anaconda3\\envs\\gpu_env\\lib\\site-packages (from pdfminer.six==20231228->pdfplumber) (3.3.2)\n",
      "Collecting cryptography>=36.0.0 (from pdfminer.six==20231228->pdfplumber)\n",
      "  Downloading cryptography-44.0.2-cp39-abi3-win_amd64.whl.metadata (5.7 kB)\n",
      "Collecting cffi>=1.12 (from cryptography>=36.0.0->pdfminer.six==20231228->pdfplumber)\n",
      "  Downloading cffi-1.17.1-cp310-cp310-win_amd64.whl.metadata (1.6 kB)\n",
      "Collecting pycparser (from cffi>=1.12->cryptography>=36.0.0->pdfminer.six==20231228->pdfplumber)\n",
      "  Downloading pycparser-2.22-py3-none-any.whl.metadata (943 bytes)\n",
      "Downloading pdfplumber-0.11.5-py3-none-any.whl (59 kB)\n",
      "   ---------------------------------------- 0.0/59.5 kB ? eta -:--:--\n",
      "   ---------------------------------------- 59.5/59.5 kB 1.5 MB/s eta 0:00:00\n",
      "Downloading pdfminer.six-20231228-py3-none-any.whl (5.6 MB)\n",
      "   ---------------------------------------- 0.0/5.6 MB ? eta -:--:--\n",
      "    --------------------------------------- 0.1/5.6 MB 3.6 MB/s eta 0:00:02\n",
      "   -- ------------------------------------- 0.4/5.6 MB 4.5 MB/s eta 0:00:02\n",
      "   -- ------------------------------------- 0.4/5.6 MB 2.9 MB/s eta 0:00:02\n",
      "   --- ------------------------------------ 0.4/5.6 MB 2.8 MB/s eta 0:00:02\n",
      "   ----- ---------------------------------- 0.7/5.6 MB 3.2 MB/s eta 0:00:02\n",
      "   ------ --------------------------------- 0.9/5.6 MB 3.3 MB/s eta 0:00:02\n",
      "   -------- ------------------------------- 1.2/5.6 MB 3.6 MB/s eta 0:00:02\n",
      "   --------- ------------------------------ 1.4/5.6 MB 3.8 MB/s eta 0:00:02\n",
      "   ----------- ---------------------------- 1.6/5.6 MB 3.8 MB/s eta 0:00:02\n",
      "   ------------- -------------------------- 1.8/5.6 MB 4.0 MB/s eta 0:00:01\n",
      "   -------------- ------------------------- 2.0/5.6 MB 3.8 MB/s eta 0:00:01\n",
      "   -------------- ------------------------- 2.1/5.6 MB 3.8 MB/s eta 0:00:01\n",
      "   ---------------- ----------------------- 2.4/5.6 MB 3.9 MB/s eta 0:00:01\n",
      "   ------------------ --------------------- 2.6/5.6 MB 4.0 MB/s eta 0:00:01\n",
      "   -------------------- ------------------- 2.9/5.6 MB 4.2 MB/s eta 0:00:01\n",
      "   --------------------- ------------------ 3.1/5.6 MB 4.2 MB/s eta 0:00:01\n",
      "   ----------------------- ---------------- 3.2/5.6 MB 4.0 MB/s eta 0:00:01\n",
      "   ------------------------- -------------- 3.5/5.6 MB 4.2 MB/s eta 0:00:01\n",
      "   -------------------------- ------------- 3.7/5.6 MB 4.2 MB/s eta 0:00:01\n",
      "   ---------------------------- ----------- 4.0/5.6 MB 4.3 MB/s eta 0:00:01\n",
      "   ---------------------------- ----------- 4.1/5.6 MB 4.2 MB/s eta 0:00:01\n",
      "   ------------------------------- -------- 4.4/5.6 MB 4.3 MB/s eta 0:00:01\n",
      "   -------------------------------- ------- 4.6/5.6 MB 4.3 MB/s eta 0:00:01\n",
      "   ---------------------------------- ----- 4.8/5.6 MB 4.2 MB/s eta 0:00:01\n",
      "   ----------------------------------- ---- 5.0/5.6 MB 4.3 MB/s eta 0:00:01\n",
      "   ------------------------------------- -- 5.3/5.6 MB 4.3 MB/s eta 0:00:01\n",
      "   ------------------------------------- -- 5.3/5.6 MB 4.3 MB/s eta 0:00:01\n",
      "   ------------------------------------- -- 5.3/5.6 MB 4.3 MB/s eta 0:00:01\n",
      "   -------------------------------------- - 5.4/5.6 MB 4.0 MB/s eta 0:00:01\n",
      "   ---------------------------------------  5.6/5.6 MB 4.0 MB/s eta 0:00:01\n",
      "   ---------------------------------------- 5.6/5.6 MB 3.9 MB/s eta 0:00:00\n",
      "Downloading pypdfium2-4.30.1-py3-none-win_amd64.whl (3.0 MB)\n",
      "   ---------------------------------------- 0.0/3.0 MB ? eta -:--:--\n",
      "   ----- ---------------------------------- 0.4/3.0 MB 12.5 MB/s eta 0:00:01\n",
      "   ------- -------------------------------- 0.6/3.0 MB 7.4 MB/s eta 0:00:01\n",
      "   ------------- -------------------------- 1.0/3.0 MB 6.8 MB/s eta 0:00:01\n",
      "   -------------- ------------------------- 1.1/3.0 MB 6.4 MB/s eta 0:00:01\n",
      "   ------------------ --------------------- 1.3/3.0 MB 6.1 MB/s eta 0:00:01\n",
      "   -------------------- ------------------- 1.5/3.0 MB 6.0 MB/s eta 0:00:01\n",
      "   ------------------------- -------------- 1.9/3.0 MB 6.0 MB/s eta 0:00:01\n",
      "   ---------------------------- ----------- 2.1/3.0 MB 6.1 MB/s eta 0:00:01\n",
      "   ------------------------------ --------- 2.3/3.0 MB 6.1 MB/s eta 0:00:01\n",
      "   ------------------------------- -------- 2.4/3.0 MB 5.4 MB/s eta 0:00:01\n",
      "   ----------------------------------- ---- 2.6/3.0 MB 5.3 MB/s eta 0:00:01\n",
      "   ---------------------------------------  2.9/3.0 MB 5.6 MB/s eta 0:00:01\n",
      "   ---------------------------------------- 3.0/3.0 MB 5.2 MB/s eta 0:00:00\n",
      "Downloading cryptography-44.0.2-cp39-abi3-win_amd64.whl (3.2 MB)\n",
      "   ---------------------------------------- 0.0/3.2 MB ? eta -:--:--\n",
      "   -- ------------------------------------- 0.2/3.2 MB 4.6 MB/s eta 0:00:01\n",
      "   ------ --------------------------------- 0.5/3.2 MB 5.2 MB/s eta 0:00:01\n",
      "   --------- ------------------------------ 0.7/3.2 MB 5.2 MB/s eta 0:00:01\n",
      "   ---------- ----------------------------- 0.9/3.2 MB 5.5 MB/s eta 0:00:01\n",
      "   ----------- ---------------------------- 0.9/3.2 MB 4.9 MB/s eta 0:00:01\n",
      "   ------------- -------------------------- 1.0/3.2 MB 3.9 MB/s eta 0:00:01\n",
      "   --------------- ------------------------ 1.3/3.2 MB 4.0 MB/s eta 0:00:01\n",
      "   ------------------ --------------------- 1.5/3.2 MB 4.0 MB/s eta 0:00:01\n",
      "   ----------------------- ---------------- 1.9/3.2 MB 4.6 MB/s eta 0:00:01\n",
      "   -------------------------- ------------- 2.2/3.2 MB 4.7 MB/s eta 0:00:01\n",
      "   ------------------------------- -------- 2.5/3.2 MB 5.1 MB/s eta 0:00:01\n",
      "   --------------------------------- ------ 2.7/3.2 MB 4.9 MB/s eta 0:00:01\n",
      "   ------------------------------------- -- 3.0/3.2 MB 4.9 MB/s eta 0:00:01\n",
      "   ---------------------------------------  3.2/3.2 MB 5.0 MB/s eta 0:00:01\n",
      "   ---------------------------------------- 3.2/3.2 MB 4.7 MB/s eta 0:00:00\n",
      "Downloading cffi-1.17.1-cp310-cp310-win_amd64.whl (181 kB)\n",
      "   ---------------------------------------- 0.0/181.3 kB ? eta -:--:--\n",
      "   ---------------------------------------- 181.3/181.3 kB 5.3 MB/s eta 0:00:00\n",
      "Downloading pycparser-2.22-py3-none-any.whl (117 kB)\n",
      "   ---------------------------------------- 0.0/117.6 kB ? eta -:--:--\n",
      "   ---------------------------------------- 117.6/117.6 kB 6.7 MB/s eta 0:00:00\n",
      "Installing collected packages: pypdfium2, pycparser, cffi, cryptography, pdfminer.six, pdfplumber\n",
      "Successfully installed cffi-1.17.1 cryptography-44.0.2 pdfminer.six-20231228 pdfplumber-0.11.5 pycparser-2.22 pypdfium2-4.30.1\n"
     ]
    }
   ],
   "source": [
    "! pip install pdfplumber"
   ]
  },
  {
   "cell_type": "code",
   "execution_count": 3,
   "metadata": {},
   "outputs": [],
   "source": [
    "# Import libraries::::\n",
    "import pdfplumber"
   ]
  },
  {
   "cell_type": "code",
   "execution_count": 4,
   "metadata": {},
   "outputs": [],
   "source": [
    "def extract_text_from_pdf(pdf_path):\n",
    "    text = \"\"\n",
    "    with pdfplumber.open(pdf_path) as pdf:\n",
    "        for page in pdf.pages:\n",
    "            text += page.extract_text() + \"\\n\"\n",
    "    return text.strip()"
   ]
  },
  {
   "cell_type": "code",
   "execution_count": 5,
   "metadata": {},
   "outputs": [],
   "source": [
    "textDataFromResume = extract_text_from_pdf(\"./My_Resume.pdf\")"
   ]
  },
  {
   "cell_type": "code",
   "execution_count": 6,
   "metadata": {},
   "outputs": [
    {
     "name": "stdout",
     "output_type": "stream",
     "text": [
      "Ashish Thapa\n",
      "Software Developer\n",
      "Phone: +12497335668 | Email: Aacict@gmail.com | LinkedIn | Github |Portfolio\n",
      "Summary\n",
      "Results-driven Software Developer with a strong foundation in full-stack development, cloud computing, and data analysis.\n",
      "Proven ability to collaborate effectively with cross-functional teams, solve complex problems, and deliver high-quality software\n",
      "solutions. Eager to contribute my skills and expertise to a company that values innovation and provides opportunities for\n",
      "profession\n"
     ]
    }
   ],
   "source": [
    "print(textDataFromResume[:500])"
   ]
  },
  {
   "cell_type": "code",
   "execution_count": null,
   "metadata": {},
   "outputs": [],
   "source": []
  }
 ],
 "metadata": {
  "kernelspec": {
   "display_name": "gpu_env",
   "language": "python",
   "name": "python3"
  },
  "language_info": {
   "codemirror_mode": {
    "name": "ipython",
    "version": 3
   },
   "file_extension": ".py",
   "mimetype": "text/x-python",
   "name": "python",
   "nbconvert_exporter": "python",
   "pygments_lexer": "ipython3",
   "version": "3.10.14"
  }
 },
 "nbformat": 4,
 "nbformat_minor": 2
}
