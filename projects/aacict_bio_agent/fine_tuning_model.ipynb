{
 "cells": [
  {
   "cell_type": "code",
   "execution_count": null,
   "metadata": {},
   "outputs": [],
   "source": [
    "# Import libraries::::\n",
    "import pdfplumber\n",
    "from transformers import pipeline\n",
    "import tqdm as notebook_tqdm\n",
    "qa_generator = pipeline(\"text2text-generation\", model=\"t5-small\")\n",
    "import json"
   ]
  },
  {
   "cell_type": "code",
   "execution_count": null,
   "metadata": {},
   "outputs": [],
   "source": [
    "def extract_text_from_pdf(pdf_path):\n",
    "    text = \"\"\n",
    "    with pdfplumber.open(pdf_path) as pdf:\n",
    "        for page in pdf.pages:\n",
    "            text += page.extract_text() + \"\\n\"\n",
    "    return text.strip()"
   ]
  },
  {
   "cell_type": "code",
   "execution_count": null,
   "metadata": {},
   "outputs": [],
   "source": [
    "textDataFromResume = extract_text_from_pdf(\"./My_Resume.pdf\")"
   ]
  },
  {
   "cell_type": "code",
   "execution_count": null,
   "metadata": {},
   "outputs": [],
   "source": [
    "print(textDataFromResume[:500])"
   ]
  },
  {
   "cell_type": "code",
   "execution_count": null,
   "metadata": {},
   "outputs": [],
   "source": [
    "def generateQaData():\n",
    "    qa_pairs = []\n",
    "    for line in textDataFromResume.split(\"\\n\"):\n",
    "        if len(line.strip()) > 10:\n",
    "            question = qa_generator(f\"Generate a question about: {line}\")[0][\"generated_text\"]\n",
    "            qa_pairs.append({\"question\": question, \"answer\": line})\n",
    "    with open(\"./my_resume_qa.json\", \"w\") as f:\n",
    "        json.dump(qa_pairs, f, indent=4)"
   ]
  },
  {
   "cell_type": "code",
   "execution_count": null,
   "metadata": {},
   "outputs": [],
   "source": [
    "generateQaData()"
   ]
  }
 ],
 "metadata": {
  "kernelspec": {
   "display_name": "gpu_env",
   "language": "python",
   "name": "python3"
  },
  "language_info": {
   "codemirror_mode": {
    "name": "ipython",
    "version": 3
   },
   "file_extension": ".py",
   "mimetype": "text/x-python",
   "name": "python",
   "nbconvert_exporter": "python",
   "pygments_lexer": "ipython3",
   "version": "3.10.14"
  }
 },
 "nbformat": 4,
 "nbformat_minor": 2
}
